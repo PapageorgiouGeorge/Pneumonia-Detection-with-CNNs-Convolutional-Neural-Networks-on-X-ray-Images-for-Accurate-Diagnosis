{
  "cells": [
    {
      "attachments": {},
      "cell_type": "markdown",
      "metadata": {
        "id": "RCgvZIF45nS5"
      },
      "source": [
        "# Detect Pneumonia with Deep Learning"
      ]
    },
    {
      "cell_type": "markdown",
      "metadata": {
        "id": "5TbPH277Agrn"
      },
      "source": [
        "## **Imports and data access**"
      ]
    },
    {
      "cell_type": "code",
      "execution_count": null,
      "metadata": {
        "colab": {
          "base_uri": "https://localhost:8080/",
          "height": 17
        },
        "id": "9f5aROq7317W",
        "outputId": "77d183fa-1b02-4f7b-a21e-363e2611cb9c"
      },
      "outputs": [
        {
          "data": {
            "text/html": [
              "        <script type=\"text/javascript\">\n",
              "        window.PlotlyConfig = {MathJaxConfig: 'local'};\n",
              "        if (window.MathJax) {MathJax.Hub.Config({SVG: {font: \"STIX-Web\"}});}\n",
              "        if (typeof require !== 'undefined') {\n",
              "        require.undef(\"plotly\");\n",
              "        requirejs.config({\n",
              "            paths: {\n",
              "                'plotly': ['https://cdn.plot.ly/plotly-latest.min']\n",
              "            }\n",
              "        });\n",
              "        require(['plotly'], function(Plotly) {\n",
              "            window._Plotly = Plotly;\n",
              "        });\n",
              "        }\n",
              "        </script>\n",
              "        "
            ]
          },
          "metadata": {
            "tags": []
          },
          "output_type": "display_data"
        }
      ],
      "source": [
        "import numpy as np \n",
        "import cv2\n",
        "import os\n",
        "import matplotlib.pyplot as plt\n",
        "import keras\n",
        "from keras import layers\n",
        "from keras.models import Model\n",
        "from keras.optimizers import Adam\n",
        "from sklearn.model_selection import train_test_split\n",
        "from tensorflow.keras.layers import Dense, Conv2D, BatchNormalization, Activation, Concatenate, \\\n",
        "                                    AveragePooling2D, Input, Flatten, MaxPool2D, Dropout, Add\n",
        "from tensorflow.keras.callbacks import ModelCheckpoint, LearningRateScheduler\n",
        "from tensorflow.keras.regularizers import l2\n",
        "from keras.preprocessing.image import ImageDataGenerator\n",
        "from tensorflow.keras.losses import  categorical_crossentropy\n",
        "import pandas as pd\n",
        "from google.colab import drive\n"
      ]
    },
    {
      "cell_type": "code",
      "execution_count": null,
      "metadata": {
        "colab": {
          "base_uri": "https://localhost:8080/"
        },
        "id": "1EZyzcS_5FgT",
        "outputId": "d95e1a11-6808-4fdb-bdec-095ab749759a"
      },
      "outputs": [
        {
          "name": "stdout",
          "output_type": "stream",
          "text": [
            "Drive already mounted at /content/drive; to attempt to forcibly remount, call drive.mount(\"/content/drive\", force_remount=True).\n"
          ]
        }
      ],
      "source": [
        "#Connect to the Google Driver\n",
        "drive.mount('/content/drive')"
      ]
    },
    {
      "cell_type": "code",
      "execution_count": null,
      "metadata": {
        "id": "8ZIbTheM5GM-"
      },
      "outputs": [],
      "source": [
        "train_path = '/content/drive/MyDrive/Pneumonia_data/train_images/' #directory of the train images\n",
        "test_path = '/content/drive/MyDrive/Pneumonia_data/test_images/'  #directory of the test images"
      ]
    },
    {
      "cell_type": "code",
      "execution_count": null,
      "metadata": {
        "colab": {
          "base_uri": "https://localhost:8080/"
        },
        "id": "1MlxCz7M5Mke",
        "outputId": "7f53bc45-9d0f-4a00-9c75-837d808131e3"
      },
      "outputs": [
        {
          "name": "stdout",
          "output_type": "stream",
          "text": [
            "4672 4672\n"
          ]
        }
      ],
      "source": [
        "df_labels = pd.read_csv('/content/drive/MyDrive/Pneumonia_data/labels_train.csv') #Create a data frame includes the Labels of the train dataset\n",
        "train_image = df_labels['file_name'].values #Getting the title of each label\n",
        "labels = df_labels['class_id'].values # Getting the label of each class_id \n",
        "print(len(train_image),len(labels)) # Just to be sure about the shape\n",
        "test_images_names = [img for img in os.listdir(test_path)] # Getting the images names from test dataset"
      ]
    },
    {
      "cell_type": "markdown",
      "metadata": {
        "id": "_D5a9ClZ6dDa"
      },
      "source": [
        "## **Data pre-processing**"
      ]
    },
    {
      "cell_type": "code",
      "execution_count": null,
      "metadata": {
        "id": "wS2jOtEelQf7"
      },
      "outputs": [],
      "source": [
        "#Creating a fuction that converts an image number into the file path where the image is located, opens the image, and returns the image as a numpy array.\n",
        "\n",
        "img_h = 256\n",
        "image_w = 256\n",
        "def get_image(row_ids, root='/content/drive/MyDrive/Pneumonia_data/train_images/'):\n",
        "    X = []\n",
        "    for image_id in row_ids:\n",
        "      file_path = os.path.join(root, image_id)\n",
        "      img = cv2.imread(file_path, cv2.IMREAD_GRAYSCALE)\n",
        "      resized_X = cv2.resize(img, (img_h,image_w))\n",
        "      \n",
        "      X.append(resized_X)\n",
        "    return np.array(X)"
      ]
    },
    {
      "cell_type": "code",
      "execution_count": null,
      "metadata": {
        "id": "qrFSV-lLnpaF"
      },
      "outputs": [],
      "source": [
        "#Creating our X_train with the fuction get_image as numpy array\n",
        "X_train = get_image(train_image) "
      ]
    },
    {
      "cell_type": "code",
      "execution_count": null,
      "metadata": {
        "colab": {
          "base_uri": "https://localhost:8080/"
        },
        "id": "yPUhRPfq4eU8",
        "outputId": "abc015d9-19cf-4efc-9cf6-90226f8b5452"
      },
      "outputs": [
        {
          "name": "stdout",
          "output_type": "stream",
          "text": [
            "(4672, 256, 256)\n"
          ]
        }
      ],
      "source": [
        "# Just to be sure about the shape of our numpy array\n",
        "print(X_train.shape)"
      ]
    },
    {
      "cell_type": "code",
      "execution_count": null,
      "metadata": {
        "id": "ofQe0ud44eZs"
      },
      "outputs": [],
      "source": [
        "#Creating our X_test with the fuction get_image as numpy array\n",
        "X_test = get_image(test_images_names, root = test_path )"
      ]
    },
    {
      "cell_type": "code",
      "execution_count": null,
      "metadata": {
        "colab": {
          "base_uri": "https://localhost:8080/"
        },
        "id": "kndcVa8MpfPR",
        "outputId": "4d50496f-4986-4318-f628-2a5df3701aea"
      },
      "outputs": [
        {
          "name": "stdout",
          "output_type": "stream",
          "text": [
            "(1168, 256, 256)\n"
          ]
        }
      ],
      "source": [
        "# Just to be sure about the shape of our numpy array\n",
        "print(X_test.shape)"
      ]
    },
    {
      "cell_type": "code",
      "execution_count": null,
      "metadata": {
        "id": "PBYy6KXF4eXz"
      },
      "outputs": [],
      "source": [
        "#Converting our labels to numpy array\n",
        "labels = np.array(labels)"
      ]
    },
    {
      "cell_type": "code",
      "execution_count": null,
      "metadata": {
        "colab": {
          "base_uri": "https://localhost:8080/"
        },
        "id": "S9vPJ9VtYWMQ",
        "outputId": "90e0d2a9-18f2-4de4-fb65-103bb56db89c"
      },
      "outputs": [
        {
          "name": "stdout",
          "output_type": "stream",
          "text": [
            "(4672,)\n"
          ]
        }
      ],
      "source": [
        "# Just to be sure about the shape of our numpy array\n",
        "print(labels.shape)"
      ]
    },
    {
      "cell_type": "code",
      "execution_count": null,
      "metadata": {
        "id": "KWAOYkJ89Bjl"
      },
      "outputs": [],
      "source": [
        "# Splitting our data to X_train, X_val, Y_train and Y_val. Setting the size of test set to 10% of the dataset and random_state equal to 1\n",
        "X_train, X_val, Y_train, Y_val = train_test_split(X_train, labels, test_size=0.10, random_state=1)"
      ]
    },
    {
      "cell_type": "code",
      "execution_count": null,
      "metadata": {
        "id": "Z3xuX74u4rkb"
      },
      "outputs": [],
      "source": [
        "#Just to be sure about the image size to 256, while we reshape the arrays and setting the input shape.\n",
        "#Also, we normalize the train, validation and test data.\n",
        "img_size = 256\n",
        "# reshape data for deep learning \n",
        "X_train = X_train.reshape(-1, img_size, img_size, 1)\n",
        "Y_train = np.array(Y_train)\n",
        "\n",
        "X_val = X_val.reshape(-1, img_size, img_size, 1)\n",
        "Y_val = np.array(Y_val)\n",
        "\n",
        "X_test = X_test.reshape(-1, img_size, img_size, 1)\n",
        "\n",
        "# Input image dimensions\n",
        "input_shape = X_train.shape[1:]\n",
        "\n",
        "# Normalize Train and Validation data\n",
        "X_train = X_train.astype('float32') / 255.0\n",
        "X_val = X_val.astype('float32') / 255.0\n",
        "\n",
        "X_train_mean = np.mean(X_train, axis=0)\n",
        "\n",
        "X_train -= X_train_mean\n",
        "X_val -= X_train_mean\n",
        "\n",
        "# Normalize Test data\n",
        "X_test = X_test.astype('float32') / 255.0\n",
        "X_test -= X_train_mean"
      ]
    },
    {
      "cell_type": "code",
      "execution_count": null,
      "metadata": {
        "colab": {
          "base_uri": "https://localhost:8080/"
        },
        "id": "4RBByiUwGsir",
        "outputId": "b792e2a3-4535-46a1-8766-3b1c5dac0db8"
      },
      "outputs": [
        {
          "name": "stdout",
          "output_type": "stream",
          "text": [
            "(4204, 256, 256, 1)\n",
            "(468, 256, 256, 1)\n"
          ]
        }
      ],
      "source": [
        "# Just to be sure about the shape of our numpy array\n",
        "print(X_train.shape)\n",
        "print(X_val.shape)"
      ]
    },
    {
      "cell_type": "code",
      "execution_count": null,
      "metadata": {
        "id": "CNy2fwmhAk9U"
      },
      "outputs": [],
      "source": [
        "# With the use of keras library we convert our data to categorical\n",
        "from keras.utils import to_categorical\n",
        "\n",
        "Y_train = to_categorical(Y_train)\n",
        "Y_val = to_categorical(Y_val)"
      ]
    },
    {
      "cell_type": "markdown",
      "metadata": {
        "id": "b-NZ8EJP6yOU"
      },
      "source": [
        "## **Model Building**"
      ]
    },
    {
      "cell_type": "code",
      "execution_count": null,
      "metadata": {
        "id": "QIol3C-LlMGY"
      },
      "outputs": [],
      "source": [
        "#Setting imageDataGenerator that applies any random transformations on each training image as it is passed to the model\n",
        "datagen = ImageDataGenerator(\n",
        "        featurewise_center=False,  # set input mean to 0 over the dataset\n",
        "        samplewise_center=False,  # set each sample mean to 0\n",
        "        featurewise_std_normalization=False,  # divide inputs by std of the dataset\n",
        "        samplewise_std_normalization=False,  # divide each input by its std\n",
        "        zca_whitening=False,  # apply ZCA whitening\n",
        "        rotation_range = 10,  # randomly rotate images in the range (degrees, 0 to 180)\n",
        "        zoom_range = 0.1, # Randomly zoom image \n",
        "        width_shift_range=0.1,  # randomly shift images horizontally (fraction of total width)\n",
        "        height_shift_range=0.1,  # randomly shift images vertically (fraction of total height)\n",
        "        horizontal_flip = True,  # randomly flip images\n",
        "        vertical_flip=False)  # randomly flip images\n",
        "\n",
        "datagen.fit(X_train)\n",
        "\n",
        "#Setting a fuction that change the lr value depending on epoch iterations. \n",
        "def lr_schedule(epoch):\n",
        "    lr = 1e-3\n",
        "    if epoch > 100:\n",
        "        lr *= 0.5e-3\n",
        "    elif epoch > 80:\n",
        "        lr *= 1e-3\n",
        "    elif epoch > 60:\n",
        "        lr *= 1e-2\n",
        "    elif epoch > 40:\n",
        "        lr *= 1e-1\n",
        "    return lr"
      ]
    },
    {
      "cell_type": "code",
      "execution_count": null,
      "metadata": {
        "colab": {
          "base_uri": "https://localhost:8080/"
        },
        "id": "ydXbr6JLv6P-",
        "outputId": "1aea8b50-158f-44da-c8d9-42706da6aee9"
      },
      "outputs": [
        {
          "name": "stdout",
          "output_type": "stream",
          "text": [
            "Model: \"model\"\n",
            "_________________________________________________________________\n",
            "Layer (type)                 Output Shape              Param #   \n",
            "=================================================================\n",
            "input_1 (InputLayer)         [(None, 256, 256, 1)]     0         \n",
            "_________________________________________________________________\n",
            "conv2d (Conv2D)              (None, 256, 256, 32)      320       \n",
            "_________________________________________________________________\n",
            "batch_normalization (BatchNo (None, 256, 256, 32)      128       \n",
            "_________________________________________________________________\n",
            "activation (Activation)      (None, 256, 256, 32)      0         \n",
            "_________________________________________________________________\n",
            "max_pooling2d (MaxPooling2D) (None, 128, 128, 32)      0         \n",
            "_________________________________________________________________\n",
            "dropout (Dropout)            (None, 128, 128, 32)      0         \n",
            "_________________________________________________________________\n",
            "conv2d_1 (Conv2D)            (None, 128, 128, 32)      9248      \n",
            "_________________________________________________________________\n",
            "batch_normalization_1 (Batch (None, 128, 128, 32)      128       \n",
            "_________________________________________________________________\n",
            "activation_1 (Activation)    (None, 128, 128, 32)      0         \n",
            "_________________________________________________________________\n",
            "max_pooling2d_1 (MaxPooling2 (None, 64, 64, 32)        0         \n",
            "_________________________________________________________________\n",
            "dropout_1 (Dropout)          (None, 64, 64, 32)        0         \n",
            "_________________________________________________________________\n",
            "conv2d_2 (Conv2D)            (None, 64, 64, 64)        18496     \n",
            "_________________________________________________________________\n",
            "batch_normalization_2 (Batch (None, 64, 64, 64)        256       \n",
            "_________________________________________________________________\n",
            "activation_2 (Activation)    (None, 64, 64, 64)        0         \n",
            "_________________________________________________________________\n",
            "max_pooling2d_2 (MaxPooling2 (None, 32, 32, 64)        0         \n",
            "_________________________________________________________________\n",
            "dropout_2 (Dropout)          (None, 32, 32, 64)        0         \n",
            "_________________________________________________________________\n",
            "conv2d_3 (Conv2D)            (None, 32, 32, 64)        36928     \n",
            "_________________________________________________________________\n",
            "batch_normalization_3 (Batch (None, 32, 32, 64)        256       \n",
            "_________________________________________________________________\n",
            "activation_3 (Activation)    (None, 32, 32, 64)        0         \n",
            "_________________________________________________________________\n",
            "average_pooling2d (AveragePo (None, 16, 16, 64)        0         \n",
            "_________________________________________________________________\n",
            "dropout_3 (Dropout)          (None, 16, 16, 64)        0         \n",
            "_________________________________________________________________\n",
            "conv2d_4 (Conv2D)            (None, 16, 16, 64)        36928     \n",
            "_________________________________________________________________\n",
            "batch_normalization_4 (Batch (None, 16, 16, 64)        256       \n",
            "_________________________________________________________________\n",
            "activation_4 (Activation)    (None, 16, 16, 64)        0         \n",
            "_________________________________________________________________\n",
            "average_pooling2d_1 (Average (None, 8, 8, 64)          0         \n",
            "_________________________________________________________________\n",
            "dropout_4 (Dropout)          (None, 8, 8, 64)          0         \n",
            "_________________________________________________________________\n",
            "conv2d_5 (Conv2D)            (None, 8, 8, 64)          36928     \n",
            "_________________________________________________________________\n",
            "batch_normalization_5 (Batch (None, 8, 8, 64)          256       \n",
            "_________________________________________________________________\n",
            "activation_5 (Activation)    (None, 8, 8, 64)          0         \n",
            "_________________________________________________________________\n",
            "average_pooling2d_2 (Average (None, 4, 4, 64)          0         \n",
            "_________________________________________________________________\n",
            "dropout_5 (Dropout)          (None, 4, 4, 64)          0         \n",
            "_________________________________________________________________\n",
            "flatten (Flatten)            (None, 1024)              0         \n",
            "_________________________________________________________________\n",
            "dense (Dense)                (None, 512)               524800    \n",
            "_________________________________________________________________\n",
            "dropout_6 (Dropout)          (None, 512)               0         \n",
            "_________________________________________________________________\n",
            "dense_1 (Dense)              (None, 512)               262656    \n",
            "_________________________________________________________________\n",
            "batch_normalization_6 (Batch (None, 512)               2048      \n",
            "_________________________________________________________________\n",
            "dropout_7 (Dropout)          (None, 512)               0         \n",
            "_________________________________________________________________\n",
            "dense_2 (Dense)              (None, 512)               262656    \n",
            "_________________________________________________________________\n",
            "dense_3 (Dense)              (None, 3)                 1539      \n",
            "=================================================================\n",
            "Total params: 1,193,827\n",
            "Trainable params: 1,192,163\n",
            "Non-trainable params: 1,664\n",
            "_________________________________________________________________\n"
          ]
        }
      ],
      "source": [
        "#Setting the number of classes as many as we want to predict, 3 \n",
        "num_classes = 3\n",
        "#Creating a fuction of the model we will use to make our predictions using as parameter the input_shape\n",
        "def cnn_2(input_shape):\n",
        "    x_in = Input(shape=input_shape) #Setting the starting x_in with the shape like our input shape which we created before, to fit to the model. \n",
        "    \n",
        "    x = Conv2D(filters=32, kernel_size=(3,3),kernel_initializer=\"he_normal\",kernel_regularizer=l2(1e-4), padding =\"same\")(x_in) # Using 2D convolution layer , with 32 filters, each kernel size 3,3. Also we use the set the kernel_initializer to he_normal and the regulizer to l2(1e-4), while setting padding to same.\n",
        "    x = BatchNormalization()(x) # We use Batch Normalization for stabilizing the learning process\n",
        "    x = Activation('relu')(x) # Setting the Activasion to relu\n",
        "    x = MaxPool2D(pool_size= (2))(x) #Setting MaxPool2D, pool_size = 2 to reduce its dimensionality\n",
        "    x = Dropout(rate=0.5)(x) #Setting Dropout rate to 0.5 to reduce the capacity\n",
        "  \n",
        "    x = Conv2D(filters=32, kernel_size=(3,3),kernel_initializer=\"he_normal\",kernel_regularizer=l2(1e-4), padding =\"same\")(x) # Creating a new 2D convolution layer , with 32 filters, each kernel size 3,3. Also we use the set the kernel_initializer to he_normal and the regulizer to l2(1e-4), while setting padding to same.\n",
        "    x = BatchNormalization()(x)# We use Batch Normalization for stabilizing the learning process\n",
        "    x = Activation('relu')(x)# Setting the Activasion to relu\n",
        "    x = MaxPool2D(pool_size= (2))(x)#Setting MaxPool2D, pool_size = 2 to reduce its dimensionality\n",
        "    x = Dropout(rate=0.3)(x)#Setting Dropout rate to 0.3 to reduce the capacity\n",
        "\n",
        "    x = Conv2D(filters=64, kernel_size=(3,3),kernel_initializer=\"he_normal\",kernel_regularizer=l2(1e-4), padding=\"same\")(x) # Creating a new 2D convolution layer , with 64 filters, each kernel size 3,3. Also we use the set the kernel_initializer to he_normal and the regulizer to l2(1e-4), while setting padding to same.\n",
        "    x = BatchNormalization()(x)# We use Batch Normalization for stabilizing the learning process\n",
        "    x = Activation('relu')(x)# Setting the Activasion to relu\n",
        "    x = MaxPool2D(pool_size= (2))(x)#Setting MaxPool2D, pool_size = 2 to reduce its dimensionality\n",
        "    x = Dropout(rate=0.2)(x) #Setting Dropout rate to 0.2 to reduce the capacity\n",
        "\n",
        "    x = Conv2D(filters=64, kernel_size=(3,3),kernel_initializer=\"he_normal\",kernel_regularizer=l2(1e-4), padding=\"same\")(x) # Creating a new 2D convolution layer , with 64 filters, each kernel size 3,3. Also we use the set the kernel_initializer to he_normal and the regulizer to l2(1e-4), while setting padding to same.\n",
        "    x = BatchNormalization()(x)# We use Batch Normalization for stabilizing the learning process\n",
        "    x = Activation('relu')(x)# Setting the Activasion to relu\n",
        "    x = AveragePooling2D(pool_size= (2))(x)#Setting MaxPool2D, pool_size = 2 to reduce its dimensionality\n",
        "    x = Dropout(rate=0.1)(x) #Setting Dropout rate to 0.1 to reduce the capacity\n",
        "\n",
        "    x = Conv2D(filters=64, kernel_size=(3,3),kernel_initializer=\"he_normal\",kernel_regularizer=l2(1e-4), padding=\"same\")(x) # Creating a new 2D convolution layer , with 64 filters, each kernel size 3,3. Also we use the set the kernel_initializer to he_normal and the regulizer to l2(1e-4), while setting padding to same.\n",
        "    x = BatchNormalization()(x)# We use Batch Normalization for stabilizing the learning process\n",
        "    x = Activation('relu')(x)# Setting the Activasion to relu\n",
        "    x = AveragePooling2D(pool_size= (2))(x)#Setting MaxPool2D, pool_size = 2 to reduce its dimensionality\n",
        "    x = Dropout(rate=0.05)(x) #Setting Dropout rate to 0.05 to reduce the capacity\n",
        "\n",
        "    x = Conv2D(filters=64, kernel_size=(3,3),kernel_initializer=\"he_normal\",kernel_regularizer=l2(1e-4), padding=\"same\")(x) # Creating a new 2D convolution layer , with 64 filters, each kernel size 3,3. Also we use the set the kernel_initializer to he_normal and the regulizer to l2(1e-4), while setting padding to same.\n",
        "    x = BatchNormalization()(x)# We use Batch Normalization for stabilizing the learning process\n",
        "    x = Activation('relu')(x)# Setting the Activasion to relu\n",
        "    x = AveragePooling2D(pool_size= (2))(x)#Setting MaxPool2D, pool_size = 2 to reduce its dimensionality\n",
        "    x = Dropout(rate=0.05)(x) #Setting Dropout rate to 0.05 to reduce the capacity\n",
        "\n",
        "    x = Flatten()(x) #We flatten the output of the convolutional layers to create a single long feature vector\n",
        "    x = Dense(512, activation='relu')(x)# Setting Dense 512 the Activasion to relu\n",
        "    x = Dropout(rate=0.2)(x)#Setting Dropout rate to 0.2 to reduce the capacity\n",
        "    x = Dense(512, activation='relu')(x)# Setting Dense 512 the Activasion to relu\n",
        "    x = BatchNormalization()(x)# We use Batch Normalization for stabilizing the learning process\n",
        "    x = Dropout(rate=0.2)(x)#Setting Dropout rate to 0.2 to reduce the capacity\n",
        "    x = Dense(512, activation='relu')(x)# Setting Dense 512 the Activasion to relu\n",
        " \n",
        " # Complete our model with dense with num_classes = 3 and softmax activation, using optimizer Adam, and the lr_schedule we created before. Metric = Accuracy   \n",
        "    out = Dense(num_classes, activation='softmax')(x) \n",
        "    model = Model(inputs=x_in, outputs=out)\n",
        "    return model\n",
        "\n",
        "model = cnn_2(input_shape)\n",
        "\n",
        "model.compile(loss='categorical_crossentropy', #Using categorical_crossentropy\n",
        "              optimizer=Adam(lr=lr_schedule(0)), # Optimizer Adam, with lr_schedule\n",
        "              metrics=['accuracy']) #Using accurace as metric\n",
        "model.summary()   "
      ]
    },
    {
      "cell_type": "code",
      "execution_count": null,
      "metadata": {
        "colab": {
          "base_uri": "https://localhost:8080/"
        },
        "id": "EEdKsKninsa5",
        "outputId": "b2abee30-7cc7-4f80-e814-a7a111e943f9"
      },
      "outputs": [
        {
          "name": "stdout",
          "output_type": "stream",
          "text": [
            "Epoch 1/120\n",
            "132/132 [==============================] - 55s 160ms/step - loss: 1.0903 - accuracy: 0.5664 - val_loss: 13.6634 - val_accuracy: 0.4722\n",
            "\n",
            "Epoch 00001: val_accuracy improved from -inf to 0.47222, saving model to model.h5\n",
            "Epoch 2/120\n",
            "132/132 [==============================] - 20s 151ms/step - loss: 0.8305 - accuracy: 0.6758 - val_loss: 9.8370 - val_accuracy: 0.2415\n",
            "\n",
            "Epoch 00002: val_accuracy did not improve from 0.47222\n",
            "Epoch 3/120\n",
            "132/132 [==============================] - 20s 151ms/step - loss: 0.7258 - accuracy: 0.7165 - val_loss: 8.5581 - val_accuracy: 0.4722\n",
            "\n",
            "Epoch 00003: val_accuracy did not improve from 0.47222\n",
            "Epoch 4/120\n",
            "132/132 [==============================] - 20s 151ms/step - loss: 0.6879 - accuracy: 0.7366 - val_loss: 3.6357 - val_accuracy: 0.4786\n",
            "\n",
            "Epoch 00004: val_accuracy improved from 0.47222 to 0.47863, saving model to model.h5\n",
            "Epoch 5/120\n",
            "132/132 [==============================] - 20s 150ms/step - loss: 0.6418 - accuracy: 0.7555 - val_loss: 1.5698 - val_accuracy: 0.4701\n",
            "\n",
            "Epoch 00005: val_accuracy did not improve from 0.47863\n",
            "Epoch 6/120\n",
            "132/132 [==============================] - 20s 150ms/step - loss: 0.6296 - accuracy: 0.7596 - val_loss: 1.0095 - val_accuracy: 0.6090\n",
            "\n",
            "Epoch 00006: val_accuracy improved from 0.47863 to 0.60897, saving model to model.h5\n",
            "Epoch 7/120\n",
            "132/132 [==============================] - 20s 150ms/step - loss: 0.6213 - accuracy: 0.7646 - val_loss: 1.7316 - val_accuracy: 0.5855\n",
            "\n",
            "Epoch 00007: val_accuracy did not improve from 0.60897\n",
            "Epoch 8/120\n",
            "132/132 [==============================] - 20s 151ms/step - loss: 0.6397 - accuracy: 0.7608 - val_loss: 0.9267 - val_accuracy: 0.5940\n",
            "\n",
            "Epoch 00008: val_accuracy did not improve from 0.60897\n",
            "Epoch 9/120\n",
            "132/132 [==============================] - 20s 152ms/step - loss: 0.5908 - accuracy: 0.7823 - val_loss: 0.9140 - val_accuracy: 0.6560\n",
            "\n",
            "Epoch 00009: val_accuracy improved from 0.60897 to 0.65598, saving model to model.h5\n",
            "Epoch 10/120\n",
            "132/132 [==============================] - 20s 154ms/step - loss: 0.6101 - accuracy: 0.7722 - val_loss: 0.8522 - val_accuracy: 0.7115\n",
            "\n",
            "Epoch 00010: val_accuracy improved from 0.65598 to 0.71154, saving model to model.h5\n",
            "Epoch 11/120\n",
            "132/132 [==============================] - 20s 151ms/step - loss: 0.6009 - accuracy: 0.7795 - val_loss: 0.8639 - val_accuracy: 0.6838\n",
            "\n",
            "Epoch 00011: val_accuracy did not improve from 0.71154\n",
            "Epoch 12/120\n",
            "132/132 [==============================] - 20s 151ms/step - loss: 0.5724 - accuracy: 0.7922 - val_loss: 1.0606 - val_accuracy: 0.6303\n",
            "\n",
            "Epoch 00012: val_accuracy did not improve from 0.71154\n",
            "Epoch 13/120\n",
            "132/132 [==============================] - 20s 150ms/step - loss: 0.5396 - accuracy: 0.8046 - val_loss: 0.7684 - val_accuracy: 0.6923\n",
            "\n",
            "Epoch 00013: val_accuracy did not improve from 0.71154\n",
            "Epoch 14/120\n",
            "132/132 [==============================] - 20s 151ms/step - loss: 0.5601 - accuracy: 0.7996 - val_loss: 0.6901 - val_accuracy: 0.7436\n",
            "\n",
            "Epoch 00014: val_accuracy improved from 0.71154 to 0.74359, saving model to model.h5\n",
            "Epoch 15/120\n",
            "132/132 [==============================] - 20s 151ms/step - loss: 0.5644 - accuracy: 0.7870 - val_loss: 0.6856 - val_accuracy: 0.7286\n",
            "\n",
            "Epoch 00015: val_accuracy did not improve from 0.74359\n",
            "Epoch 16/120\n",
            "132/132 [==============================] - 20s 151ms/step - loss: 0.5648 - accuracy: 0.7972 - val_loss: 0.9164 - val_accuracy: 0.7051\n",
            "\n",
            "Epoch 00016: val_accuracy did not improve from 0.74359\n",
            "Epoch 17/120\n",
            "132/132 [==============================] - 20s 151ms/step - loss: 0.5882 - accuracy: 0.7755 - val_loss: 0.7807 - val_accuracy: 0.7094\n",
            "\n",
            "Epoch 00017: val_accuracy did not improve from 0.74359\n",
            "Epoch 18/120\n",
            "132/132 [==============================] - 20s 151ms/step - loss: 0.5292 - accuracy: 0.8103 - val_loss: 0.6106 - val_accuracy: 0.7756\n",
            "\n",
            "Epoch 00018: val_accuracy improved from 0.74359 to 0.77564, saving model to model.h5\n",
            "Epoch 19/120\n",
            "132/132 [==============================] - 20s 150ms/step - loss: 0.5164 - accuracy: 0.8174 - val_loss: 0.6017 - val_accuracy: 0.7692\n",
            "\n",
            "Epoch 00019: val_accuracy did not improve from 0.77564\n",
            "Epoch 20/120\n",
            "132/132 [==============================] - 20s 151ms/step - loss: 0.5192 - accuracy: 0.8102 - val_loss: 0.7444 - val_accuracy: 0.7543\n",
            "\n",
            "Epoch 00020: val_accuracy did not improve from 0.77564\n",
            "Epoch 21/120\n",
            "132/132 [==============================] - 20s 151ms/step - loss: 0.5415 - accuracy: 0.7989 - val_loss: 0.7159 - val_accuracy: 0.7543\n",
            "\n",
            "Epoch 00021: val_accuracy did not improve from 0.77564\n",
            "Epoch 22/120\n",
            "132/132 [==============================] - 20s 150ms/step - loss: 0.5634 - accuracy: 0.7983 - val_loss: 0.6278 - val_accuracy: 0.7735\n",
            "\n",
            "Epoch 00022: val_accuracy did not improve from 0.77564\n",
            "Epoch 23/120\n",
            "132/132 [==============================] - 20s 150ms/step - loss: 0.4974 - accuracy: 0.8191 - val_loss: 0.6158 - val_accuracy: 0.7564\n",
            "\n",
            "Epoch 00023: val_accuracy did not improve from 0.77564\n",
            "Epoch 24/120\n",
            "132/132 [==============================] - 20s 151ms/step - loss: 0.5276 - accuracy: 0.7988 - val_loss: 0.5634 - val_accuracy: 0.8056\n",
            "\n",
            "Epoch 00024: val_accuracy improved from 0.77564 to 0.80556, saving model to model.h5\n",
            "Epoch 25/120\n",
            "132/132 [==============================] - 20s 150ms/step - loss: 0.5208 - accuracy: 0.8087 - val_loss: 0.5802 - val_accuracy: 0.7842\n",
            "\n",
            "Epoch 00025: val_accuracy did not improve from 0.80556\n",
            "Epoch 26/120\n",
            "132/132 [==============================] - 20s 151ms/step - loss: 0.4921 - accuracy: 0.8204 - val_loss: 0.5859 - val_accuracy: 0.7906\n",
            "\n",
            "Epoch 00026: val_accuracy did not improve from 0.80556\n",
            "Epoch 27/120\n",
            "132/132 [==============================] - 20s 150ms/step - loss: 0.5397 - accuracy: 0.8015 - val_loss: 0.6290 - val_accuracy: 0.7692\n",
            "\n",
            "Epoch 00027: val_accuracy did not improve from 0.80556\n",
            "Epoch 28/120\n",
            "132/132 [==============================] - 20s 150ms/step - loss: 0.5150 - accuracy: 0.8058 - val_loss: 0.6132 - val_accuracy: 0.7628\n",
            "\n",
            "Epoch 00028: val_accuracy did not improve from 0.80556\n",
            "Epoch 29/120\n",
            "132/132 [==============================] - 20s 150ms/step - loss: 0.5116 - accuracy: 0.8044 - val_loss: 0.6028 - val_accuracy: 0.7756\n",
            "\n",
            "Epoch 00029: val_accuracy did not improve from 0.80556\n",
            "Epoch 30/120\n",
            "132/132 [==============================] - 20s 151ms/step - loss: 0.4951 - accuracy: 0.8163 - val_loss: 0.6976 - val_accuracy: 0.7201\n",
            "\n",
            "Epoch 00030: val_accuracy did not improve from 0.80556\n",
            "Epoch 31/120\n",
            "132/132 [==============================] - 20s 150ms/step - loss: 0.4590 - accuracy: 0.8369 - val_loss: 0.5881 - val_accuracy: 0.7692\n",
            "\n",
            "Epoch 00031: val_accuracy did not improve from 0.80556\n",
            "Epoch 32/120\n",
            "132/132 [==============================] - 20s 152ms/step - loss: 0.4763 - accuracy: 0.8265 - val_loss: 0.5820 - val_accuracy: 0.7885\n",
            "\n",
            "Epoch 00032: val_accuracy did not improve from 0.80556\n",
            "Epoch 33/120\n",
            "132/132 [==============================] - 20s 151ms/step - loss: 0.4983 - accuracy: 0.8134 - val_loss: 0.5771 - val_accuracy: 0.7927\n",
            "\n",
            "Epoch 00033: val_accuracy did not improve from 0.80556\n",
            "Epoch 34/120\n",
            "132/132 [==============================] - 20s 150ms/step - loss: 0.4938 - accuracy: 0.8164 - val_loss: 0.6834 - val_accuracy: 0.7415\n",
            "\n",
            "Epoch 00034: val_accuracy did not improve from 0.80556\n",
            "Epoch 35/120\n",
            "132/132 [==============================] - 20s 150ms/step - loss: 0.4905 - accuracy: 0.8168 - val_loss: 0.5880 - val_accuracy: 0.7778\n",
            "\n",
            "Epoch 00035: val_accuracy did not improve from 0.80556\n",
            "Epoch 36/120\n",
            "132/132 [==============================] - 20s 150ms/step - loss: 0.4851 - accuracy: 0.8093 - val_loss: 0.5633 - val_accuracy: 0.7778\n",
            "\n",
            "Epoch 00036: val_accuracy did not improve from 0.80556\n",
            "Epoch 37/120\n",
            "132/132 [==============================] - 20s 150ms/step - loss: 0.4946 - accuracy: 0.8185 - val_loss: 0.5810 - val_accuracy: 0.7927\n",
            "\n",
            "Epoch 00037: val_accuracy did not improve from 0.80556\n",
            "Epoch 38/120\n",
            "132/132 [==============================] - 20s 151ms/step - loss: 0.4877 - accuracy: 0.8142 - val_loss: 0.5991 - val_accuracy: 0.7735\n",
            "\n",
            "Epoch 00038: val_accuracy did not improve from 0.80556\n",
            "Epoch 39/120\n",
            "132/132 [==============================] - 20s 152ms/step - loss: 0.4960 - accuracy: 0.8094 - val_loss: 0.5899 - val_accuracy: 0.7735\n",
            "\n",
            "Epoch 00039: val_accuracy did not improve from 0.80556\n",
            "Epoch 40/120\n",
            "132/132 [==============================] - 21s 156ms/step - loss: 0.4622 - accuracy: 0.8254 - val_loss: 0.5910 - val_accuracy: 0.7799\n",
            "\n",
            "Epoch 00040: val_accuracy did not improve from 0.80556\n",
            "Epoch 41/120\n",
            "132/132 [==============================] - 20s 154ms/step - loss: 0.4819 - accuracy: 0.8260 - val_loss: 0.5611 - val_accuracy: 0.7842\n",
            "\n",
            "Epoch 00041: val_accuracy did not improve from 0.80556\n",
            "Epoch 42/120\n",
            "132/132 [==============================] - 20s 152ms/step - loss: 0.4586 - accuracy: 0.8263 - val_loss: 0.5458 - val_accuracy: 0.7949\n",
            "\n",
            "Epoch 00042: val_accuracy did not improve from 0.80556\n",
            "Epoch 43/120\n",
            "132/132 [==============================] - 20s 152ms/step - loss: 0.4645 - accuracy: 0.8273 - val_loss: 0.5205 - val_accuracy: 0.8034\n",
            "\n",
            "Epoch 00043: val_accuracy did not improve from 0.80556\n",
            "Epoch 44/120\n",
            "132/132 [==============================] - 20s 152ms/step - loss: 0.4414 - accuracy: 0.8328 - val_loss: 0.5235 - val_accuracy: 0.7991\n",
            "\n",
            "Epoch 00044: val_accuracy did not improve from 0.80556\n",
            "Epoch 45/120\n",
            "132/132 [==============================] - 20s 152ms/step - loss: 0.4285 - accuracy: 0.8456 - val_loss: 0.5147 - val_accuracy: 0.8056\n",
            "\n",
            "Epoch 00045: val_accuracy did not improve from 0.80556\n",
            "Epoch 46/120\n",
            "132/132 [==============================] - 20s 151ms/step - loss: 0.4423 - accuracy: 0.8390 - val_loss: 0.5112 - val_accuracy: 0.8141\n",
            "\n",
            "Epoch 00046: val_accuracy improved from 0.80556 to 0.81410, saving model to model.h5\n",
            "Epoch 47/120\n",
            "132/132 [==============================] - 20s 152ms/step - loss: 0.4198 - accuracy: 0.8432 - val_loss: 0.5025 - val_accuracy: 0.8077\n",
            "\n",
            "Epoch 00047: val_accuracy did not improve from 0.81410\n",
            "Epoch 48/120\n",
            "132/132 [==============================] - 20s 153ms/step - loss: 0.4082 - accuracy: 0.8572 - val_loss: 0.5154 - val_accuracy: 0.7970\n",
            "\n",
            "Epoch 00048: val_accuracy did not improve from 0.81410\n",
            "Epoch 49/120\n",
            "132/132 [==============================] - 20s 152ms/step - loss: 0.4152 - accuracy: 0.8551 - val_loss: 0.5069 - val_accuracy: 0.8098\n",
            "\n",
            "Epoch 00049: val_accuracy did not improve from 0.81410\n",
            "Epoch 50/120\n",
            "132/132 [==============================] - 20s 152ms/step - loss: 0.4107 - accuracy: 0.8484 - val_loss: 0.5200 - val_accuracy: 0.8056\n",
            "\n",
            "Epoch 00050: val_accuracy did not improve from 0.81410\n",
            "Epoch 51/120\n",
            "132/132 [==============================] - 20s 152ms/step - loss: 0.4107 - accuracy: 0.8495 - val_loss: 0.5311 - val_accuracy: 0.7991\n",
            "\n",
            "Epoch 00051: val_accuracy did not improve from 0.81410\n",
            "Epoch 52/120\n",
            "132/132 [==============================] - 20s 153ms/step - loss: 0.4320 - accuracy: 0.8391 - val_loss: 0.5497 - val_accuracy: 0.7885\n",
            "\n",
            "Epoch 00052: val_accuracy did not improve from 0.81410\n",
            "Epoch 53/120\n",
            "132/132 [==============================] - 20s 151ms/step - loss: 0.4293 - accuracy: 0.8386 - val_loss: 0.5382 - val_accuracy: 0.7885\n",
            "\n",
            "Epoch 00053: val_accuracy did not improve from 0.81410\n",
            "Epoch 54/120\n",
            "132/132 [==============================] - 20s 151ms/step - loss: 0.4076 - accuracy: 0.8503 - val_loss: 0.5025 - val_accuracy: 0.8034\n",
            "\n",
            "Epoch 00054: val_accuracy did not improve from 0.81410\n",
            "Epoch 55/120\n",
            "132/132 [==============================] - 20s 152ms/step - loss: 0.4218 - accuracy: 0.8399 - val_loss: 0.5232 - val_accuracy: 0.7991\n",
            "\n",
            "Epoch 00055: val_accuracy did not improve from 0.81410\n",
            "Epoch 56/120\n",
            "132/132 [==============================] - 20s 152ms/step - loss: 0.4066 - accuracy: 0.8492 - val_loss: 0.5284 - val_accuracy: 0.8056\n",
            "\n",
            "Epoch 00056: val_accuracy did not improve from 0.81410\n",
            "Epoch 57/120\n",
            "132/132 [==============================] - 20s 152ms/step - loss: 0.4047 - accuracy: 0.8520 - val_loss: 0.5066 - val_accuracy: 0.8098\n",
            "\n",
            "Epoch 00057: val_accuracy did not improve from 0.81410\n",
            "Epoch 58/120\n",
            "132/132 [==============================] - 20s 151ms/step - loss: 0.4036 - accuracy: 0.8528 - val_loss: 0.5230 - val_accuracy: 0.8034\n",
            "\n",
            "Epoch 00058: val_accuracy did not improve from 0.81410\n",
            "Epoch 59/120\n",
            "132/132 [==============================] - 20s 151ms/step - loss: 0.4005 - accuracy: 0.8483 - val_loss: 0.5407 - val_accuracy: 0.7949\n",
            "\n",
            "Epoch 00059: val_accuracy did not improve from 0.81410\n",
            "Epoch 60/120\n",
            "132/132 [==============================] - 20s 153ms/step - loss: 0.4004 - accuracy: 0.8508 - val_loss: 0.5231 - val_accuracy: 0.7970\n",
            "\n",
            "Epoch 00060: val_accuracy did not improve from 0.81410\n",
            "Epoch 61/120\n",
            "132/132 [==============================] - 20s 151ms/step - loss: 0.3748 - accuracy: 0.8695 - val_loss: 0.5511 - val_accuracy: 0.7949\n",
            "\n",
            "Epoch 00061: val_accuracy did not improve from 0.81410\n",
            "Epoch 62/120\n",
            "132/132 [==============================] - 20s 151ms/step - loss: 0.4004 - accuracy: 0.8579 - val_loss: 0.5287 - val_accuracy: 0.7885\n",
            "\n",
            "Epoch 00062: val_accuracy did not improve from 0.81410\n",
            "Epoch 63/120\n",
            "132/132 [==============================] - 20s 152ms/step - loss: 0.4028 - accuracy: 0.8469 - val_loss: 0.5353 - val_accuracy: 0.8034\n",
            "\n",
            "Epoch 00063: val_accuracy did not improve from 0.81410\n",
            "Epoch 64/120\n",
            "132/132 [==============================] - 20s 152ms/step - loss: 0.4101 - accuracy: 0.8519 - val_loss: 0.5397 - val_accuracy: 0.7970\n",
            "\n",
            "Epoch 00064: val_accuracy did not improve from 0.81410\n",
            "Epoch 65/120\n",
            "132/132 [==============================] - 20s 152ms/step - loss: 0.3869 - accuracy: 0.8640 - val_loss: 0.5293 - val_accuracy: 0.8013\n",
            "\n",
            "Epoch 00065: val_accuracy did not improve from 0.81410\n",
            "Epoch 66/120\n",
            "132/132 [==============================] - 20s 151ms/step - loss: 0.3979 - accuracy: 0.8495 - val_loss: 0.5318 - val_accuracy: 0.8098\n",
            "\n",
            "Epoch 00066: val_accuracy did not improve from 0.81410\n",
            "Epoch 67/120\n",
            "132/132 [==============================] - 20s 153ms/step - loss: 0.3917 - accuracy: 0.8518 - val_loss: 0.5207 - val_accuracy: 0.8013\n",
            "\n",
            "Epoch 00067: val_accuracy did not improve from 0.81410\n",
            "Epoch 68/120\n",
            "132/132 [==============================] - 20s 154ms/step - loss: 0.3881 - accuracy: 0.8585 - val_loss: 0.5171 - val_accuracy: 0.8056\n",
            "\n",
            "Epoch 00068: val_accuracy did not improve from 0.81410\n",
            "Epoch 69/120\n",
            "132/132 [==============================] - 20s 151ms/step - loss: 0.3935 - accuracy: 0.8602 - val_loss: 0.5175 - val_accuracy: 0.7970\n",
            "\n",
            "Epoch 00069: val_accuracy did not improve from 0.81410\n",
            "Epoch 70/120\n",
            "132/132 [==============================] - 20s 152ms/step - loss: 0.3913 - accuracy: 0.8518 - val_loss: 0.5009 - val_accuracy: 0.8226\n",
            "\n",
            "Epoch 00070: val_accuracy improved from 0.81410 to 0.82265, saving model to model.h5\n",
            "Epoch 71/120\n",
            "132/132 [==============================] - 20s 152ms/step - loss: 0.3944 - accuracy: 0.8599 - val_loss: 0.5221 - val_accuracy: 0.7949\n",
            "\n",
            "Epoch 00071: val_accuracy did not improve from 0.82265\n",
            "Epoch 72/120\n",
            "132/132 [==============================] - 20s 152ms/step - loss: 0.4011 - accuracy: 0.8491 - val_loss: 0.5273 - val_accuracy: 0.7991\n",
            "\n",
            "Epoch 00072: val_accuracy did not improve from 0.82265\n",
            "Epoch 73/120\n",
            "132/132 [==============================] - 20s 151ms/step - loss: 0.4016 - accuracy: 0.8522 - val_loss: 0.5196 - val_accuracy: 0.8120\n",
            "\n",
            "Epoch 00073: val_accuracy did not improve from 0.82265\n",
            "Epoch 74/120\n",
            "132/132 [==============================] - 20s 151ms/step - loss: 0.4115 - accuracy: 0.8453 - val_loss: 0.5383 - val_accuracy: 0.8013\n",
            "\n",
            "Epoch 00074: val_accuracy did not improve from 0.82265\n",
            "Epoch 75/120\n",
            "132/132 [==============================] - 20s 151ms/step - loss: 0.3927 - accuracy: 0.8467 - val_loss: 0.5292 - val_accuracy: 0.8013\n",
            "\n",
            "Epoch 00075: val_accuracy did not improve from 0.82265\n",
            "Epoch 76/120\n",
            "132/132 [==============================] - 20s 151ms/step - loss: 0.4090 - accuracy: 0.8399 - val_loss: 0.5211 - val_accuracy: 0.7906\n",
            "\n",
            "Epoch 00076: val_accuracy did not improve from 0.82265\n",
            "Epoch 77/120\n",
            "132/132 [==============================] - 20s 151ms/step - loss: 0.3933 - accuracy: 0.8512 - val_loss: 0.5461 - val_accuracy: 0.8034\n",
            "\n",
            "Epoch 00077: val_accuracy did not improve from 0.82265\n",
            "Epoch 78/120\n",
            "132/132 [==============================] - 20s 152ms/step - loss: 0.3999 - accuracy: 0.8532 - val_loss: 0.5399 - val_accuracy: 0.7927\n",
            "\n",
            "Epoch 00078: val_accuracy did not improve from 0.82265\n",
            "Epoch 79/120\n",
            "132/132 [==============================] - 20s 151ms/step - loss: 0.3961 - accuracy: 0.8608 - val_loss: 0.5237 - val_accuracy: 0.8056\n",
            "\n",
            "Epoch 00079: val_accuracy did not improve from 0.82265\n",
            "Epoch 80/120\n",
            "132/132 [==============================] - 20s 152ms/step - loss: 0.4058 - accuracy: 0.8619 - val_loss: 0.5379 - val_accuracy: 0.7991\n",
            "\n",
            "Epoch 00080: val_accuracy did not improve from 0.82265\n",
            "Epoch 81/120\n",
            "132/132 [==============================] - 20s 152ms/step - loss: 0.3825 - accuracy: 0.8590 - val_loss: 0.5291 - val_accuracy: 0.7991\n",
            "\n",
            "Epoch 00081: val_accuracy did not improve from 0.82265\n",
            "Epoch 82/120\n",
            "132/132 [==============================] - 20s 151ms/step - loss: 0.4023 - accuracy: 0.8528 - val_loss: 0.5497 - val_accuracy: 0.8077\n",
            "\n",
            "Epoch 00082: val_accuracy did not improve from 0.82265\n",
            "Epoch 83/120\n",
            "132/132 [==============================] - 20s 152ms/step - loss: 0.4068 - accuracy: 0.8458 - val_loss: 0.5276 - val_accuracy: 0.7906\n",
            "\n",
            "Epoch 00083: val_accuracy did not improve from 0.82265\n",
            "Epoch 84/120\n",
            "132/132 [==============================] - 20s 152ms/step - loss: 0.3838 - accuracy: 0.8547 - val_loss: 0.5080 - val_accuracy: 0.8034\n",
            "\n",
            "Epoch 00084: val_accuracy did not improve from 0.82265\n",
            "Epoch 85/120\n",
            "132/132 [==============================] - 20s 151ms/step - loss: 0.3839 - accuracy: 0.8574 - val_loss: 0.5195 - val_accuracy: 0.7927\n",
            "\n",
            "Epoch 00085: val_accuracy did not improve from 0.82265\n",
            "Epoch 86/120\n",
            "132/132 [==============================] - 20s 151ms/step - loss: 0.4164 - accuracy: 0.8372 - val_loss: 0.5305 - val_accuracy: 0.8077\n",
            "\n",
            "Epoch 00086: val_accuracy did not improve from 0.82265\n",
            "Epoch 87/120\n",
            "132/132 [==============================] - 20s 151ms/step - loss: 0.3966 - accuracy: 0.8399 - val_loss: 0.5422 - val_accuracy: 0.8120\n",
            "\n",
            "Epoch 00087: val_accuracy did not improve from 0.82265\n",
            "Epoch 88/120\n",
            "132/132 [==============================] - 20s 152ms/step - loss: 0.3782 - accuracy: 0.8533 - val_loss: 0.5242 - val_accuracy: 0.8077\n",
            "\n",
            "Epoch 00088: val_accuracy did not improve from 0.82265\n",
            "Epoch 89/120\n",
            "132/132 [==============================] - 20s 151ms/step - loss: 0.3885 - accuracy: 0.8615 - val_loss: 0.5071 - val_accuracy: 0.8034\n",
            "\n",
            "Epoch 00089: val_accuracy did not improve from 0.82265\n",
            "Epoch 90/120\n",
            "132/132 [==============================] - 20s 151ms/step - loss: 0.3980 - accuracy: 0.8504 - val_loss: 0.5155 - val_accuracy: 0.8056\n",
            "\n",
            "Epoch 00090: val_accuracy did not improve from 0.82265\n",
            "Epoch 91/120\n",
            "132/132 [==============================] - 20s 152ms/step - loss: 0.3980 - accuracy: 0.8546 - val_loss: 0.5292 - val_accuracy: 0.7991\n",
            "\n",
            "Epoch 00091: val_accuracy did not improve from 0.82265\n",
            "Epoch 92/120\n",
            "132/132 [==============================] - 20s 151ms/step - loss: 0.3719 - accuracy: 0.8613 - val_loss: 0.5475 - val_accuracy: 0.8162\n",
            "\n",
            "Epoch 00092: val_accuracy did not improve from 0.82265\n",
            "Epoch 93/120\n",
            "132/132 [==============================] - 20s 152ms/step - loss: 0.3866 - accuracy: 0.8524 - val_loss: 0.5056 - val_accuracy: 0.8184\n",
            "\n",
            "Epoch 00093: val_accuracy did not improve from 0.82265\n",
            "Epoch 94/120\n",
            "132/132 [==============================] - 20s 152ms/step - loss: 0.3987 - accuracy: 0.8471 - val_loss: 0.5361 - val_accuracy: 0.7991\n",
            "\n",
            "Epoch 00094: val_accuracy did not improve from 0.82265\n",
            "Epoch 95/120\n",
            "132/132 [==============================] - 20s 152ms/step - loss: 0.3826 - accuracy: 0.8602 - val_loss: 0.5288 - val_accuracy: 0.7927\n",
            "\n",
            "Epoch 00095: val_accuracy did not improve from 0.82265\n",
            "Epoch 96/120\n",
            "132/132 [==============================] - 20s 152ms/step - loss: 0.3939 - accuracy: 0.8501 - val_loss: 0.5245 - val_accuracy: 0.8098\n",
            "\n",
            "Epoch 00096: val_accuracy did not improve from 0.82265\n",
            "Epoch 97/120\n",
            "132/132 [==============================] - 20s 151ms/step - loss: 0.3991 - accuracy: 0.8533 - val_loss: 0.5105 - val_accuracy: 0.8013\n",
            "\n",
            "Epoch 00097: val_accuracy did not improve from 0.82265\n",
            "Epoch 98/120\n",
            "132/132 [==============================] - 20s 151ms/step - loss: 0.3652 - accuracy: 0.8676 - val_loss: 0.5522 - val_accuracy: 0.8013\n",
            "\n",
            "Epoch 00098: val_accuracy did not improve from 0.82265\n",
            "Epoch 99/120\n",
            "132/132 [==============================] - 20s 151ms/step - loss: 0.3828 - accuracy: 0.8564 - val_loss: 0.5322 - val_accuracy: 0.8162\n",
            "\n",
            "Epoch 00099: val_accuracy did not improve from 0.82265\n",
            "Epoch 100/120\n",
            "132/132 [==============================] - 20s 152ms/step - loss: 0.3945 - accuracy: 0.8506 - val_loss: 0.5064 - val_accuracy: 0.8205\n",
            "\n",
            "Epoch 00100: val_accuracy did not improve from 0.82265\n",
            "Epoch 101/120\n",
            "132/132 [==============================] - 20s 153ms/step - loss: 0.3884 - accuracy: 0.8535 - val_loss: 0.5002 - val_accuracy: 0.8056\n",
            "\n",
            "Epoch 00101: val_accuracy did not improve from 0.82265\n",
            "Epoch 102/120\n",
            "132/132 [==============================] - 20s 152ms/step - loss: 0.3873 - accuracy: 0.8579 - val_loss: 0.5325 - val_accuracy: 0.8034\n",
            "\n",
            "Epoch 00102: val_accuracy did not improve from 0.82265\n",
            "Epoch 103/120\n",
            "132/132 [==============================] - 20s 151ms/step - loss: 0.3920 - accuracy: 0.8603 - val_loss: 0.5178 - val_accuracy: 0.8013\n",
            "\n",
            "Epoch 00103: val_accuracy did not improve from 0.82265\n",
            "Epoch 104/120\n",
            "132/132 [==============================] - 20s 152ms/step - loss: 0.3805 - accuracy: 0.8529 - val_loss: 0.5150 - val_accuracy: 0.8077\n",
            "\n",
            "Epoch 00104: val_accuracy did not improve from 0.82265\n",
            "Epoch 105/120\n",
            "132/132 [==============================] - 20s 153ms/step - loss: 0.3895 - accuracy: 0.8594 - val_loss: 0.5248 - val_accuracy: 0.8162\n",
            "\n",
            "Epoch 00105: val_accuracy did not improve from 0.82265\n",
            "Epoch 106/120\n",
            "132/132 [==============================] - 20s 152ms/step - loss: 0.3874 - accuracy: 0.8620 - val_loss: 0.5288 - val_accuracy: 0.8034\n",
            "\n",
            "Epoch 00106: val_accuracy did not improve from 0.82265\n",
            "Epoch 107/120\n",
            "132/132 [==============================] - 20s 152ms/step - loss: 0.4058 - accuracy: 0.8487 - val_loss: 0.5465 - val_accuracy: 0.8056\n",
            "\n",
            "Epoch 00107: val_accuracy did not improve from 0.82265\n",
            "Epoch 108/120\n",
            "132/132 [==============================] - 20s 152ms/step - loss: 0.3899 - accuracy: 0.8538 - val_loss: 0.5044 - val_accuracy: 0.7949\n",
            "\n",
            "Epoch 00108: val_accuracy did not improve from 0.82265\n",
            "Epoch 109/120\n",
            "132/132 [==============================] - 20s 152ms/step - loss: 0.3906 - accuracy: 0.8636 - val_loss: 0.5515 - val_accuracy: 0.8098\n",
            "\n",
            "Epoch 00109: val_accuracy did not improve from 0.82265\n",
            "Epoch 110/120\n",
            "132/132 [==============================] - 20s 152ms/step - loss: 0.4080 - accuracy: 0.8545 - val_loss: 0.5436 - val_accuracy: 0.7949\n",
            "\n",
            "Epoch 00110: val_accuracy did not improve from 0.82265\n",
            "Epoch 111/120\n",
            "132/132 [==============================] - 20s 152ms/step - loss: 0.3829 - accuracy: 0.8592 - val_loss: 0.5116 - val_accuracy: 0.8077\n",
            "\n",
            "Epoch 00111: val_accuracy did not improve from 0.82265\n",
            "Epoch 112/120\n",
            "132/132 [==============================] - 20s 152ms/step - loss: 0.3982 - accuracy: 0.8506 - val_loss: 0.5275 - val_accuracy: 0.8034\n",
            "\n",
            "Epoch 00112: val_accuracy did not improve from 0.82265\n",
            "Epoch 113/120\n",
            "132/132 [==============================] - 20s 153ms/step - loss: 0.4092 - accuracy: 0.8454 - val_loss: 0.5304 - val_accuracy: 0.8141\n",
            "\n",
            "Epoch 00113: val_accuracy did not improve from 0.82265\n",
            "Epoch 114/120\n",
            "132/132 [==============================] - 20s 152ms/step - loss: 0.3832 - accuracy: 0.8540 - val_loss: 0.5168 - val_accuracy: 0.7991\n",
            "\n",
            "Epoch 00114: val_accuracy did not improve from 0.82265\n",
            "Epoch 115/120\n",
            "132/132 [==============================] - 20s 151ms/step - loss: 0.4029 - accuracy: 0.8478 - val_loss: 0.5196 - val_accuracy: 0.8056\n",
            "\n",
            "Epoch 00115: val_accuracy did not improve from 0.82265\n",
            "Epoch 116/120\n",
            "132/132 [==============================] - 20s 152ms/step - loss: 0.3826 - accuracy: 0.8598 - val_loss: 0.5080 - val_accuracy: 0.8120\n",
            "\n",
            "Epoch 00116: val_accuracy did not improve from 0.82265\n",
            "Epoch 117/120\n",
            "132/132 [==============================] - 20s 152ms/step - loss: 0.3965 - accuracy: 0.8534 - val_loss: 0.5095 - val_accuracy: 0.8141\n",
            "\n",
            "Epoch 00117: val_accuracy did not improve from 0.82265\n",
            "Epoch 118/120\n",
            "132/132 [==============================] - 20s 152ms/step - loss: 0.3749 - accuracy: 0.8589 - val_loss: 0.5470 - val_accuracy: 0.8120\n",
            "\n",
            "Epoch 00118: val_accuracy did not improve from 0.82265\n",
            "Epoch 119/120\n",
            "132/132 [==============================] - 20s 152ms/step - loss: 0.3826 - accuracy: 0.8639 - val_loss: 0.5136 - val_accuracy: 0.8120\n",
            "\n",
            "Epoch 00119: val_accuracy did not improve from 0.82265\n",
            "Epoch 120/120\n",
            "132/132 [==============================] - 20s 152ms/step - loss: 0.3877 - accuracy: 0.8580 - val_loss: 0.5138 - val_accuracy: 0.8098\n",
            "\n",
            "Epoch 00120: val_accuracy did not improve from 0.82265\n"
          ]
        }
      ],
      "source": [
        "# We use 120 epoch and batch size equal to 32.\n",
        "max_epochs = 120\n",
        "batch_size = 32\n",
        "scheduler = LearningRateScheduler(lr_schedule)\n",
        "\n",
        "#Checkpoint cal_accuracy to see our best accuracy score in val.\n",
        "checkpoint = ModelCheckpoint('model.h5', \n",
        "                             verbose=1, \n",
        "                             monitor='val_accuracy', \n",
        "                             save_best_only=True)\n",
        "#Applying the model in our dataset.\n",
        "history = model.fit(datagen.flow(x=X_train, y=Y_train),\n",
        "                    validation_data=datagen.flow(X_val,Y_val),\n",
        "                    batch_size=batch_size,\n",
        "                    epochs=max_epochs,\n",
        "                    callbacks = [scheduler, checkpoint],\n",
        "                    verbose=1)"
      ]
    },
    {
      "cell_type": "code",
      "execution_count": null,
      "metadata": {
        "colab": {
          "base_uri": "https://localhost:8080/",
          "height": 497
        },
        "id": "2uMkHhiGScO2",
        "outputId": "3b81f079-051b-475f-e801-d23ac59fecfd"
      },
      "outputs": [
        {
          "data": {
            "image/png": "[encoded data removed]",
            "text/plain": [
              "<Figure size 720x576 with 1 Axes>"
            ]
          },
          "metadata": {
            "tags": []
          },
          "output_type": "display_data"
        }
      ],
      "source": [
        "#Creating plot with Train set accuracy, and Validation set accuracy checking about overfitting\n",
        "fig, ax = plt.subplots(figsize=(10,8))\n",
        "fig.set_facecolor('lightgray')\n",
        "plt.plot(history.history['accuracy'], 'b')\n",
        "plt.plot(history.history['val_accuracy'], 'r')\n",
        "plt.legend(['train acc', 'val acc'], fontsize=16)\n",
        "plt.xlabel('Epochs')\n",
        "plt.grid(b=True)"
      ]
    },
    {
      "cell_type": "markdown",
      "metadata": {
        "id": "NQ5TKPJE7FUS"
      },
      "source": [
        "## **Making Predictions**"
      ]
    },
    {
      "cell_type": "code",
      "execution_count": null,
      "metadata": {
        "colab": {
          "base_uri": "https://localhost:8080/"
        },
        "id": "H9MDnL_0P9ys",
        "outputId": "2a13cb7f-b9f7-4494-9a66-2930a8c603ba"
      },
      "outputs": [
        {
          "name": "stdout",
          "output_type": "stream",
          "text": [
            "[[9.9579382e-01 9.8306010e-04 3.2231319e-03]\n",
            " [3.4007359e-02 7.2296846e-01 2.4302414e-01]\n",
            " [7.7447523e-03 1.1290122e-01 8.7935400e-01]\n",
            " ...\n",
            " [1.9368990e-05 2.8099859e-01 7.1898204e-01]\n",
            " [3.4785924e-05 8.2143039e-01 1.7853491e-01]\n",
            " [6.2132413e-03 6.0920238e-01 3.8458446e-01]]\n"
          ]
        }
      ],
      "source": [
        "#Apply our model to our test dataset\n",
        "Y_test_prob = model.predict(X_test)\n",
        "print(Y_test_prob)"
      ]
    },
    {
      "cell_type": "code",
      "execution_count": null,
      "metadata": {
        "colab": {
          "base_uri": "https://localhost:8080/"
        },
        "id": "8Qeu-YMyU2sl",
        "outputId": "a121f344-65b8-4195-9442-01ae8e6832fb"
      },
      "outputs": [
        {
          "name": "stdout",
          "output_type": "stream",
          "text": [
            "[0 1 2 ... 2 1 1]\n"
          ]
        }
      ],
      "source": [
        "#Modify to 0,1,2\n",
        "Y_test = Y_test_prob.argmax(axis=-1)\n",
        "print(Y_test)"
      ]
    },
    {
      "cell_type": "code",
      "execution_count": null,
      "metadata": {
        "colab": {
          "base_uri": "https://localhost:8080/",
          "height": 360
        },
        "id": "sarUpaaiU5pc",
        "outputId": "23f7a295-5982-4665-949b-64ebb20df273"
      },
      "outputs": [
        {
          "data": {
            "text/html": [
              "<div>\n",
              "<style scoped>\n",
              "    .dataframe tbody tr th:only-of-type {\n",
              "        vertical-align: middle;\n",
              "    }\n",
              "\n",
              "    .dataframe tbody tr th {\n",
              "        vertical-align: top;\n",
              "    }\n",
              "\n",
              "    .dataframe thead th {\n",
              "        text-align: right;\n",
              "    }\n",
              "</style>\n",
              "<table border=\"1\" class=\"dataframe\">\n",
              "  <thead>\n",
              "    <tr style=\"text-align: right;\">\n",
              "      <th></th>\n",
              "      <th>file_name</th>\n",
              "      <th>class_id</th>\n",
              "    </tr>\n",
              "  </thead>\n",
              "  <tbody>\n",
              "    <tr>\n",
              "      <th>0</th>\n",
              "      <td>img_4358977458434011046.jpg</td>\n",
              "      <td>1</td>\n",
              "    </tr>\n",
              "    <tr>\n",
              "      <th>1</th>\n",
              "      <td>img_5224016757187192130.jpg</td>\n",
              "      <td>2</td>\n",
              "    </tr>\n",
              "    <tr>\n",
              "      <th>2</th>\n",
              "      <td>img_3065202206106254707.jpg</td>\n",
              "      <td>2</td>\n",
              "    </tr>\n",
              "    <tr>\n",
              "      <th>3</th>\n",
              "      <td>img_6304894865561547174.jpg</td>\n",
              "      <td>1</td>\n",
              "    </tr>\n",
              "    <tr>\n",
              "      <th>4</th>\n",
              "      <td>img_3371338542810939877.jpg</td>\n",
              "      <td>2</td>\n",
              "    </tr>\n",
              "    <tr>\n",
              "      <th>5</th>\n",
              "      <td>img_946797649386887230.jpg</td>\n",
              "      <td>0</td>\n",
              "    </tr>\n",
              "    <tr>\n",
              "      <th>6</th>\n",
              "      <td>img_3282952127033205295.jpg</td>\n",
              "      <td>0</td>\n",
              "    </tr>\n",
              "    <tr>\n",
              "      <th>7</th>\n",
              "      <td>img_3090153597350897926.jpg</td>\n",
              "      <td>1</td>\n",
              "    </tr>\n",
              "    <tr>\n",
              "      <th>8</th>\n",
              "      <td>img_4875755942606271156.jpg</td>\n",
              "      <td>1</td>\n",
              "    </tr>\n",
              "    <tr>\n",
              "      <th>9</th>\n",
              "      <td>img_4787814488043878610.jpg</td>\n",
              "      <td>1</td>\n",
              "    </tr>\n",
              "  </tbody>\n",
              "</table>\n",
              "</div>"
            ],
            "text/plain": [
              "                     file_name  class_id\n",
              "0  img_4358977458434011046.jpg         1\n",
              "1  img_5224016757187192130.jpg         2\n",
              "2  img_3065202206106254707.jpg         2\n",
              "3  img_6304894865561547174.jpg         1\n",
              "4  img_3371338542810939877.jpg         2\n",
              "5   img_946797649386887230.jpg         0\n",
              "6  img_3282952127033205295.jpg         0\n",
              "7  img_3090153597350897926.jpg         1\n",
              "8  img_4875755942606271156.jpg         1\n",
              "9  img_4787814488043878610.jpg         1"
            ]
          },
          "execution_count": 29,
          "metadata": {
            "tags": []
          },
          "output_type": "execute_result"
        }
      ],
      "source": [
        "#Create dataframe with file names and labels for test dataset\n",
        "test_names = [i for i in os.listdir(test_path)]\n",
        "\n",
        "df_test = pd.DataFrame (test_names, columns=['file_name'])\n",
        "\n",
        "df_test.head()\n",
        "df_test['class_id'] = Y_test\n",
        "df_labels.head(10)"
      ]
    },
    {
      "cell_type": "code",
      "execution_count": null,
      "metadata": {
        "id": "TMbES7oubjKa"
      },
      "outputs": [],
      "source": [
        "#Saving as csv to our Google Drive.\n",
        "df_test.to_csv('/content/drive/MyDrive/Georgios Papageorgiou subm 256b.csv', sep = ',', index = False)"
      ]
    }
  ],
  "metadata": {
    "accelerator": "GPU",
    "colab": {
      "collapsed_sections": [],
      "name": "img size 200.ipynb",
      "provenance": [],
      "toc_visible": true
    },
    "kernelspec": {
      "display_name": "Python 3",
      "name": "python3"
    },
    "language_info": {
      "name": "python"
    }
  },
  "nbformat": 4,
  "nbformat_minor": 0
}
